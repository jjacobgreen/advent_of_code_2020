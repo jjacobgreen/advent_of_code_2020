{
 "metadata": {
  "language_info": {
   "codemirror_mode": {
    "name": "ipython",
    "version": 3
   },
   "file_extension": ".py",
   "mimetype": "text/x-python",
   "name": "python",
   "nbconvert_exporter": "python",
   "pygments_lexer": "ipython3",
   "version": "3.8.5-final"
  },
  "orig_nbformat": 2,
  "kernelspec": {
   "name": "python3",
   "display_name": "Python 3"
  }
 },
 "nbformat": 4,
 "nbformat_minor": 2,
 "cells": [
  {
   "source": [
    "Day 5, problem 1"
   ],
   "cell_type": "markdown",
   "metadata": {}
  },
  {
   "cell_type": "code",
   "execution_count": 27,
   "metadata": {},
   "outputs": [
    {
     "output_type": "stream",
     "name": "stdout",
     "text": [
      "['BBFFBFFRRR', 'FBBFFBBLRR', 'FFBFBFBRRR', 'FFFBFBFRRR', 'BBFFBBFLRR']\n"
     ]
    }
   ],
   "source": [
    "with open('../inputs/5_1.txt', 'r') as file:\n",
    "    # get file length and store all lines in seats\n",
    "    seats = file.read().splitlines()\n",
    "# check format\n",
    "print(seats[:5])"
   ]
  },
  {
   "cell_type": "code",
   "execution_count": 28,
   "metadata": {},
   "outputs": [
    {
     "output_type": "stream",
     "name": "stdout",
     "text": [
      "BBFFBFFRRR 1100100 100\nFBBFFBBLRR 0110011 51\nFFBFBFBRRR 0010101 21\nFFFBFBFRRR 0001010 10\nBBFFBBFLRR 1100110 102\nBFFBFBFLRL 1001010 74\nFBBBBBFRRR 0111110 62\nFFFFBFFLLR 0000100 4\nBFBFFBFLLR 1010010 82\nFFBBFFFLRR 0011000 24\nBFFFFFFLLL 1000000 64\n"
     ]
    }
   ],
   "source": [
    "\n",
    "stop = 0\n",
    "for seat in seats:\n",
    "    row = ''\n",
    "    for half in seat[:7]:\n",
    "        if half == 'F':\n",
    "            pos += '0'\n",
    "        elif half == 'B':\n",
    "            pos += '1'\n",
    "    if stop > 10:\n",
    "        break\n",
    "    stop += 1\n",
    "    # check format/output\n",
    "    print(seat, pos, int(pos, 2))"
   ]
  },
  {
   "cell_type": "code",
   "execution_count": 32,
   "metadata": {},
   "outputs": [
    {
     "output_type": "stream",
     "name": "stdout",
     "text": [
      "871\n"
     ]
    }
   ],
   "source": [
    "highest = -1\n",
    "for seat in seats:\n",
    "    row = int(seat[:7].replace('F', '0').replace('B', '1'), 2)\n",
    "    col = int(seat[7:].replace('L', '0').replace('R', '1'), 2)\n",
    "    number = row * 8 + col\n",
    "    highest = max(highest, number)\n",
    "print(highest)"
   ]
  },
  {
   "source": [
    "Day 5, problem 2"
   ],
   "cell_type": "markdown",
   "metadata": {}
  },
  {
   "cell_type": "code",
   "execution_count": 34,
   "metadata": {},
   "outputs": [],
   "source": [
    "numbers = []\n",
    "for seat in seats:\n",
    "    row = int(seat[:7].replace('F', '0').replace('B', '1'), 2)\n",
    "    col = int(seat[7:].replace('L', '0').replace('R', '1'), 2)\n",
    "    number = row * 8 + col\n",
    "    numbers.append(number)"
   ]
  },
  {
   "cell_type": "code",
   "execution_count": 47,
   "metadata": {},
   "outputs": [
    {
     "output_type": "stream",
     "name": "stdout",
     "text": [
      "640\n"
     ]
    }
   ],
   "source": [
    "numbers.sort()\n",
    "for i in range(len(numbers) - 1):\n",
    "    n = numbers[i]\n",
    "    if numbers[i + 1] != n + 1:\n",
    "        print(numbers[i] + 1)"
   ]
  }
 ]
}