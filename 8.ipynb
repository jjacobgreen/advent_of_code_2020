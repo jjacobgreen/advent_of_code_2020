{
 "metadata": {
  "language_info": {
   "codemirror_mode": {
    "name": "ipython",
    "version": 3
   },
   "file_extension": ".py",
   "mimetype": "text/x-python",
   "name": "python",
   "nbconvert_exporter": "python",
   "pygments_lexer": "ipython3",
   "version": "3.8.5-final"
  },
  "orig_nbformat": 2,
  "kernelspec": {
   "name": "python3",
   "display_name": "Python 3"
  }
 },
 "nbformat": 4,
 "nbformat_minor": 2,
 "cells": [
  {
   "source": [
    "# Day 8, problem 1"
   ],
   "cell_type": "markdown",
   "metadata": {}
  },
  {
   "cell_type": "code",
   "execution_count": 56,
   "metadata": {},
   "outputs": [
    {
     "output_type": "stream",
     "name": "stdout",
     "text": [
      "623 623\n"
     ]
    }
   ],
   "source": [
    "with open('../inputs/8_1.txt', 'r') as file:\n",
    "    instructions, data = [], []\n",
    "    for line in file:\n",
    "        instructions.append(line.split()[0]), \n",
    "        data.append(int(line.split()[1]))\n",
    "print(len(instructions), len(data))"
   ]
  },
  {
   "cell_type": "code",
   "execution_count": 57,
   "metadata": {},
   "outputs": [
    {
     "output_type": "stream",
     "name": "stdout",
     "text": [
      "1394 132\n"
     ]
    }
   ],
   "source": [
    "acc, count, i, visited = 0, 0, 0, {}\n",
    "while not visited.get(i, False):\n",
    "    visited[i] = True\n",
    "    count += 1\n",
    "    if instructions[i] == 'acc':\n",
    "        acc += data[i]\n",
    "        i += 1\n",
    "    if instructions[i] == 'jmp':\n",
    "        i += data[i]\n",
    "    if instructions[i] == 'nop': \n",
    "        i += 1 \n",
    "print(acc, count)"
   ]
  },
  {
   "source": [
    "# Day 8, problem 2"
   ],
   "cell_type": "markdown",
   "metadata": {}
  },
  {
   "cell_type": "code",
   "execution_count": 58,
   "metadata": {
    "tags": []
   },
   "outputs": [
    {
     "output_type": "stream",
     "name": "stdout",
     "text": [
      "Will try to make 299 changes\nFixed final acc: 1626 after trying 143 changes.\n"
     ]
    }
   ],
   "source": [
    "fixed_acc = None\n",
    "changes = 0\n",
    "print('Will try to make {} changes'.format(instructions.count('nop') + instructions.count('jmp')))\n",
    "# Change the instructions\n",
    "for i in range(len(instructions)):\n",
    "    # Break if the fixed acc is found\n",
    "    if fixed_acc != None:\n",
    "        break\n",
    "    # Make an editable copy of the instructions\n",
    "    test_instructions = instructions.copy()\n",
    "    if test_instructions[i] == 'jmp':\n",
    "        test_instructions[i] = 'nop'\n",
    "        # print('changed jmp to nop')\n",
    "    elif test_instructions[i] == 'nop':\n",
    "        test_instructions[i] = 'jmp'\n",
    "        # print('changed nop to jmp')\n",
    "    if test_instructions[i] != 'acc':\n",
    "        changes += 1\n",
    "        # Test the new instructions\n",
    "        acc, count, j, visited = 0, 0, 0, {}\n",
    "        while not visited.get(j, False):\n",
    "            visited[j] = True\n",
    "            # Code is fixed if you pass the line after the last ie i >= len(instructions)\n",
    "            if j >= len(test_instructions):\n",
    "                fixed_acc = acc\n",
    "                break\n",
    "            count += 1\n",
    "            if test_instructions[j] == 'acc':\n",
    "                acc += data[j]\n",
    "                j += 1\n",
    "            elif test_instructions[j] == 'jmp':\n",
    "                j += data[j]\n",
    "            elif test_instructions[j] == 'nop': \n",
    "                j += 1\n",
    "print('Fixed final acc: {} after trying {} changes.'.format(fixed_acc, changes))"
   ]
  }
 ]
}