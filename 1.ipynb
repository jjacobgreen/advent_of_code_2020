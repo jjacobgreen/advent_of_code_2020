{
 "metadata": {
  "language_info": {
   "codemirror_mode": {
    "name": "ipython",
    "version": 3
   },
   "file_extension": ".py",
   "mimetype": "text/x-python",
   "name": "python",
   "nbconvert_exporter": "python",
   "pygments_lexer": "ipython3",
   "version": "3.8.5-final"
  },
  "orig_nbformat": 2,
  "kernelspec": {
   "name": "python3",
   "display_name": "Python 3"
  }
 },
 "nbformat": 4,
 "nbformat_minor": 2,
 "cells": [
  {
   "source": [
    "Day 1, problem 1"
   ],
   "cell_type": "markdown",
   "metadata": {}
  },
  {
   "cell_type": "code",
   "execution_count": 1,
   "metadata": {},
   "outputs": [],
   "source": [
    "data = []\n",
    "with open('../inputs/1_1.txt', 'r') as file:\n",
    "    for line in file:\n",
    "        data.append(int(line))"
   ]
  },
  {
   "cell_type": "code",
   "execution_count": 2,
   "metadata": {},
   "outputs": [
    {
     "output_type": "stream",
     "name": "stdout",
     "text": [
      "200 200\nnumbers:  1917 103 answer:  197451\nnumbers:  103 1917 answer:  197451\n"
     ]
    }
   ],
   "source": [
    "# check all values occur only once\n",
    "print(len(data), len(set(data)))\n",
    "# find answer\n",
    "for entry in data:\n",
    "    match = 2020 - entry\n",
    "    if match in data:\n",
    "        print('numbers: ', entry, match, 'answer: ', entry * match)"
   ]
  },
  {
   "source": [
    "Day 1, problem 2"
   ],
   "cell_type": "markdown",
   "metadata": {}
  },
  {
   "cell_type": "code",
   "execution_count": 3,
   "metadata": {},
   "outputs": [
    {
     "output_type": "stream",
     "name": "stdout",
     "text": [
      "numbers:  443 232 1345 answer:  138233720\n",
      "numbers:  443 1345 232 answer:  138233720\n",
      "numbers:  232 1345 443 answer:  138233720\n"
     ]
    }
   ],
   "source": [
    "# find answer\n",
    "for i in range(len(data)):\n",
    "    current_sum = 2020 - data[i]\n",
    "    for j in range(i + 1, len(data)):\n",
    "        new_sum = current_sum - data[j]\n",
    "        if new_sum in data:\n",
    "            print('numbers: ', data[i], data[j], new_sum, 'answer: ', data[i] * data[j] * new_sum)"
   ]
  }
 ]
}