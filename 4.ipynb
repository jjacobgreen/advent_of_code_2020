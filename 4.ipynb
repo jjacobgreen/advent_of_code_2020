{
 "metadata": {
  "language_info": {
   "codemirror_mode": {
    "name": "ipython",
    "version": 3
   },
   "file_extension": ".py",
   "mimetype": "text/x-python",
   "name": "python",
   "nbconvert_exporter": "python",
   "pygments_lexer": "ipython3",
   "version": "3.8.5-final"
  },
  "orig_nbformat": 2,
  "kernelspec": {
   "name": "python3",
   "display_name": "Python 3"
  }
 },
 "nbformat": 4,
 "nbformat_minor": 2,
 "cells": [
  {
   "cell_type": "code",
   "execution_count": 95,
   "metadata": {},
   "outputs": [
    {
     "output_type": "stream",
     "name": "stdout",
     "text": [
      "1102 1102\n"
     ]
    }
   ],
   "source": [
    "# stitch together all related passport data into one list entry even if on separate lines (there's probably a neater way to do this...)\n",
    "passports = []\n",
    "passport = ''\n",
    "space = ''\n",
    "l = 0\n",
    "with open('../inputs/4_1.txt', 'r') as file:\n",
    "    # get file length and store all lines\n",
    "    lines = file.readlines()\n",
    "    while l < len(lines):\n",
    "        if lines[l] == '\\n':\n",
    "            passports.append(passport)\n",
    "            passport = ''\n",
    "            l += 1\n",
    "            space = ''\n",
    "        else:\n",
    "            passport += (space + lines[l].strip('\\n'))\n",
    "            space = ' '\n",
    "            l += 1\n",
    "    # add last as it wouldn't be otherwise because there's no \\n after it!\n",
    "    passports.append(passport)\n",
    "    print(len(lines), l)"
   ]
  },
  {
   "cell_type": "code",
   "execution_count": 96,
   "metadata": {},
   "outputs": [
    {
     "output_type": "stream",
     "name": "stdout",
     "text": [
      "290 hcl:#7d3b0c pid:431742871 ecl:hzl hgt:169cm cid:340 eyr:2023 iyr:2017 byr:1994\n"
     ]
    }
   ],
   "source": [
    "print(len(passports), passports[len(passports) - 1])"
   ]
  },
  {
   "cell_type": "code",
   "execution_count": 97,
   "metadata": {},
   "outputs": [
    {
     "output_type": "stream",
     "name": "stdout",
     "text": [
      "answer: 216\n"
     ]
    }
   ],
   "source": [
    "necessary = ['byr', 'iyr', 'eyr', 'hgt', 'hcl', 'ecl', 'pid']\n",
    "count = 0\n",
    "for passport in passports:\n",
    "    valid = True\n",
    "    for field in necessary:\n",
    "        if field not in passport:\n",
    "            valid = False\n",
    "    if valid:\n",
    "        count += 1\n",
    "print('answer:', count)"
   ]
  },
  {
   "source": [
    "Day 4, problem 2"
   ],
   "cell_type": "markdown",
   "metadata": {}
  },
  {
   "cell_type": "code",
   "execution_count": 98,
   "metadata": {},
   "outputs": [],
   "source": [
    "import re\n",
    "def str_to_dict(s):\n",
    "    dict = {}\n",
    "    key_values = re.split(':| ', s)\n",
    "    for i in range(0, len(key_values), 2):\n",
    "        dict[key_values[i]] = key_values[i + 1]\n",
    "    return dict\n",
    "# print(str_to_dict('hcl:#7d3b0c pid:431742871 ecl:hzl hgt:169cm cid:340 eyr:2023 iyr:2017 byr:1994'))"
   ]
  },
  {
   "cell_type": "code",
   "execution_count": 99,
   "metadata": {},
   "outputs": [],
   "source": [
    "# stitch together all related passport data into one list entry even if on separate lines (there's probably a neater way to do this...)\n",
    "passports = []\n",
    "passport = ''\n",
    "space = ''\n",
    "l = 0\n",
    "with open('../inputs/4_1.txt', 'r') as file:\n",
    "    # get file length and store all lines\n",
    "    lines = file.readlines()\n",
    "    while l < len(lines):\n",
    "        if lines[l] == '\\n':\n",
    "            passports.append(str_to_dict(passport))\n",
    "            passport = ''\n",
    "            l += 1\n",
    "            space = ''\n",
    "        else:\n",
    "            passport += (space + lines[l].strip('\\n'))\n",
    "            space = ' '\n",
    "            l += 1\n",
    "    # add last as it wouldn't be otherwise because there's no \\n after it!\n",
    "    passports.append(passport)\n",
    "    # print(len(lines), l, passports[0])"
   ]
  },
  {
   "cell_type": "code",
   "execution_count": 100,
   "metadata": {},
   "outputs": [
    {
     "output_type": "stream",
     "name": "stdout",
     "text": [
      "answer: 150\n"
     ]
    }
   ],
   "source": [
    "necessary = ['byr', 'iyr', 'eyr', 'hgt', 'hcl', 'ecl', 'pid']\n",
    "count = 0\n",
    "\n",
    "def check_valid(p):\n",
    "    for field in necessary:\n",
    "        if field not in p:\n",
    "            # print('field')\n",
    "            return False\n",
    "    try:\n",
    "        if int(p['byr']) < 1920 or int(p['byr']) > 2002:\n",
    "            # print(p['byr'], 'byr')\n",
    "            return False\n",
    "        if int(p['iyr']) < 2010 or int(p['iyr']) > 2020:\n",
    "            # print(p['iyr'], 'iyr')\n",
    "            return False\n",
    "        if int(p['eyr']) < 2020 or int(p['eyr']) > 2030:\n",
    "            # print(p['eyr'], 'eyr')\n",
    "            return False\n",
    "        if p['hgt'][-2:] == 'cm' or p['hgt'][-2:] == 'in':\n",
    "            if p['hgt'][-2:] == 'cm':\n",
    "                h = p['hgt'].split('cm')[0]\n",
    "                if int(h) < 150 or int(h) > 193:\n",
    "                    # print(h, 'hgt:cm')\n",
    "                    return False\n",
    "            elif p['hgt'][-2:] == 'in':\n",
    "                h = p['hgt'].split('in')[0]\n",
    "                if int(h) < 59 or int(h) > 76:\n",
    "                    # print('hgt:in')\n",
    "                    return False\n",
    "        else:\n",
    "            # print(p['hgt'], 'cm/in')\n",
    "            return False\n",
    "        hcl = int(p['hcl'].replace('#', ''), 16)\n",
    "        if p['ecl'] not in ['amb', 'blu', 'brn', 'gry', 'grn', 'hzl', 'oth']:\n",
    "            # print(p['ecl'], 'ecl')\n",
    "            return False\n",
    "        pid = int(p['pid'])\n",
    "        if len(p['pid']) != 9:\n",
    "            # print(p['pid'], 'pid')\n",
    "            return False\n",
    "    except Exception as e:\n",
    "        # print('except', e, p['hcl'], p['pid'], p['hgt'])\n",
    "        return False\n",
    "    # print('valid')\n",
    "    return True\n",
    "            \n",
    "for passport in passports:\n",
    "    valid = check_valid(passport)\n",
    "    if valid:\n",
    "        count += 1\n",
    "print('answer:', count)"
   ]
  }
 ]
}