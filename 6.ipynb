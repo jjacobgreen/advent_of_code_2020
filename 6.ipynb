{
 "metadata": {
  "language_info": {
   "codemirror_mode": {
    "name": "ipython",
    "version": 3
   },
   "file_extension": ".py",
   "mimetype": "text/x-python",
   "name": "python",
   "nbconvert_exporter": "python",
   "pygments_lexer": "ipython3",
   "version": "3.8.5-final"
  },
  "orig_nbformat": 2,
  "kernelspec": {
   "name": "python3",
   "display_name": "Python 3"
  }
 },
 "nbformat": 4,
 "nbformat_minor": 2,
 "cells": [
  {
   "source": [
    "# Day 6, problem 1"
   ],
   "cell_type": "markdown",
   "metadata": {}
  },
  {
   "cell_type": "code",
   "execution_count": 63,
   "metadata": {},
   "outputs": [
    {
     "output_type": "stream",
     "name": "stdout",
     "text": [
      "483\n"
     ]
    }
   ],
   "source": [
    "with open('../inputs/6_1.txt', 'r') as file:\n",
    "    # get file length and store all lines\n",
    "    lines = file.read().split('\\n\\n')\n",
    "    print(len(lines))"
   ]
  },
  {
   "cell_type": "code",
   "execution_count": 16,
   "metadata": {},
   "outputs": [
    {
     "output_type": "stream",
     "name": "stdout",
     "text": [
      "6590\n"
     ]
    }
   ],
   "source": [
    "count = 0\n",
    "for group in lines:\n",
    "    a = group.replace('\\n', '')\n",
    "    count += len(set(a))\n",
    "print(count)"
   ]
  },
  {
   "cell_type": "code",
   "execution_count": 59,
   "metadata": {},
   "outputs": [],
   "source": [
    "lines = ['abc', 'a\\nb\\nc', 'ab\\nac', 'a\\na\\na\\na', 'b']"
   ]
  },
  {
   "source": [
    "# Day 6, problem 2"
   ],
   "cell_type": "markdown",
   "metadata": {}
  },
  {
   "cell_type": "code",
   "execution_count": 64,
   "metadata": {
    "tags": []
   },
   "outputs": [
    {
     "output_type": "stream",
     "name": "stdout",
     "text": [
      "3288\n"
     ]
    }
   ],
   "source": [
    "count = 0\n",
    "for group in lines:\n",
    "    # Remove the newline at the end of the file - without this, the group size of the final group would be 1 longer than it should be\n",
    "    _group = group.rstrip('\\n')\n",
    "    group_size = _group.count('\\n') + 1\n",
    "    _group.replace('\\n', '')\n",
    "    unique = set(_group)\n",
    "    for question in unique:\n",
    "        if _group.count(question) == group_size:\n",
    "            count += 1\n",
    "print(count)"
   ]
  },
  {
   "cell_type": "code",
   "execution_count": 49,
   "metadata": {},
   "outputs": [
    {
     "output_type": "execute_result",
     "data": {
      "text/plain": [
       "set()"
      ]
     },
     "metadata": {},
     "execution_count": 49
    }
   ],
   "source": [
    "set(my_counts) - set(lst)"
   ]
  },
  {
   "cell_type": "code",
   "execution_count": null,
   "metadata": {},
   "outputs": [],
   "source": []
  }
 ]
}