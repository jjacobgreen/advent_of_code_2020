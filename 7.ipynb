{
 "metadata": {
  "language_info": {
   "codemirror_mode": {
    "name": "ipython",
    "version": 3
   },
   "file_extension": ".py",
   "mimetype": "text/x-python",
   "name": "python",
   "nbconvert_exporter": "python",
   "pygments_lexer": "ipython3",
   "version": "3.8.5-final"
  },
  "orig_nbformat": 2,
  "kernelspec": {
   "name": "python3",
   "display_name": "Python 3"
  }
 },
 "nbformat": 4,
 "nbformat_minor": 2,
 "cells": [
  {
   "source": [
    "# Day 7, problem 1"
   ],
   "cell_type": "markdown",
   "metadata": {}
  },
  {
   "cell_type": "code",
   "execution_count": 119,
   "metadata": {},
   "outputs": [],
   "source": [
    "with open('../inputs/7_1.txt', 'r') as file:\n",
    "    lines = file.read().split('.\\n')"
   ]
  },
  {
   "cell_type": "code",
   "execution_count": 112,
   "metadata": {},
   "outputs": [],
   "source": [
    "# lines = ['shiny gold bags contain 2 dark red bags',\n",
    "# 'dark red bags contain 2 dark orange bags',\n",
    "# 'dark orange bags contain 2 dark yellow bags',\n",
    "# 'dark yellow bags contain 2 dark green bags',\n",
    "# 'dark green bags contain 2 dark blue bags',\n",
    "# 'dark blue bags contain 2 dark violet bags',\n",
    "# 'dark violet bags contain no other bags']"
   ]
  },
  {
   "cell_type": "code",
   "execution_count": 120,
   "metadata": {
    "tags": []
   },
   "outputs": [
    {
     "output_type": "stream",
     "name": "stdout",
     "text": [
      "594\n"
     ]
    }
   ],
   "source": [
    "# Construct dictionary of rules with what contains what and a set of bags that can contain other bags\n",
    "rules = {}\n",
    "# stop = 0\n",
    "unique = set()\n",
    "for rule in lines:\n",
    "    r = rule.replace(' contain ', ', ').split(', ')\n",
    "    container = r[0].rstrip(' bags')\n",
    "    unique.add(container)\n",
    "    contained = []\n",
    "    for i in range(1, len(r)):\n",
    "        bag = r[i]\n",
    "        if bag != 'no other bags':\n",
    "            quantity = [int(s) for s in bag.split() if s.isdigit()][0]\n",
    "            bag_type = bag.split(' ', 1)[1].rstrip(' bags')\n",
    "            contained.append([quantity, bag_type])\n",
    "            # unique.add(bag_type)\n",
    "    rules[container] = contained\n",
    "    # if stop > 3:\n",
    "    #     break\n",
    "    # stop += 1\n",
    "unique.remove('')\n",
    "print(len(unique))"
   ]
  },
  {
   "cell_type": "code",
   "execution_count": 111,
   "metadata": {
    "tags": []
   },
   "outputs": [
    {
     "output_type": "stream",
     "name": "stdout",
     "text": [
      "ans:  142 iterations: 252659\n"
     ]
    }
   ],
   "source": [
    "total = 0\n",
    "checked = set()\n",
    "can_hold = set()\n",
    "iterations = 0\n",
    "def can_contain_gold(b):\n",
    "    global can_hold\n",
    "    global iterations\n",
    "    iterations += 1\n",
    "    containable = rules[b[-1]]\n",
    "    if len(containable) != 0:\n",
    "        for c in containable:\n",
    "            if c[1] == 'shiny gold':\n",
    "                can_hold.add(b[0])\n",
    "            else:\n",
    "                b_copy = b\n",
    "                b_copy.append(c[1])\n",
    "                can_contain_gold(b_copy)\n",
    "\n",
    "for bag in unique:\n",
    "    if can_contain_gold([bag]):\n",
    "        total += 1\n",
    "print('ans: ', len(can_hold), 'iterations:', iterations)"
   ]
  },
  {
   "source": [
    "# Day 7, problem 2"
   ],
   "cell_type": "markdown",
   "metadata": {}
  },
  {
   "cell_type": "code",
   "execution_count": 121,
   "metadata": {},
   "outputs": [
    {
     "output_type": "stream",
     "name": "stdout",
     "text": [
      "10219\n"
     ]
    }
   ],
   "source": [
    "total = 0\n",
    "def check_quantity(b, cumulative_factor):\n",
    "    global total\n",
    "    b_n = b[0]\n",
    "    b_t = b[1]\n",
    "    contained = rules[b_t]\n",
    "    for c in contained:\n",
    "        c_n = c[0]\n",
    "        c_t = c[1]\n",
    "        total += cumulative_factor * c_n\n",
    "        check_quantity(c, cumulative_factor * c_n)\n",
    "\n",
    "check_quantity([1, 'shiny gold'], 1)\n",
    "print(total)"
   ]
  },
  {
   "cell_type": "code",
   "execution_count": null,
   "metadata": {},
   "outputs": [],
   "source": []
  }
 ]
}