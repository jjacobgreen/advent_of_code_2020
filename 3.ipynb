{
 "metadata": {
  "language_info": {
   "codemirror_mode": {
    "name": "ipython",
    "version": 3
   },
   "file_extension": ".py",
   "mimetype": "text/x-python",
   "name": "python",
   "nbconvert_exporter": "python",
   "pygments_lexer": "ipython3",
   "version": "3.8.5-final"
  },
  "orig_nbformat": 2,
  "kernelspec": {
   "name": "python3",
   "display_name": "Python 3"
  }
 },
 "nbformat": 4,
 "nbformat_minor": 2,
 "cells": [
  {
   "cell_type": "code",
   "execution_count": 4,
   "metadata": {},
   "outputs": [
    {
     "output_type": "stream",
     "name": "stdout",
     "text": [
      "height: 323 width: 31\n"
     ]
    }
   ],
   "source": [
    "mountain = []\n",
    "with open('../inputs/3_1.txt', 'r') as file:\n",
    "    for line in file:\n",
    "        mountain.append(line.split('\\n')[0])\n",
    "height = len(mountain)\n",
    "width = len(mountain[0])\n",
    "print('height:', height, 'width:', width)"
   ]
  },
  {
   "cell_type": "code",
   "execution_count": 5,
   "metadata": {},
   "outputs": [
    {
     "output_type": "stream",
     "name": "stdout",
     "text": [
      "answer: 272\n"
     ]
    }
   ],
   "source": [
    "# pos as x, y\n",
    "pos = [0, 0]\n",
    "trees = 0\n",
    "while pos[1] < height - 1:\n",
    "    pos[0] += 3\n",
    "    pos[1] += 1\n",
    "    # if you go beyond the width, loop round ie 31 -> 0, 32 -> 1 etc.\n",
    "    if pos[0] > width - 1:\n",
    "        pos[0] -= (width)\n",
    "    spot = mountain[pos[1]][pos[0]]\n",
    "    if spot == '#':\n",
    "        trees += 1\n",
    "print('answer:', trees)"
   ]
  },
  {
   "source": [
    "Day 3, problem 2"
   ],
   "cell_type": "markdown",
   "metadata": {}
  },
  {
   "cell_type": "code",
   "execution_count": 6,
   "metadata": {},
   "outputs": [
    {
     "output_type": "stream",
     "name": "stdout",
     "text": [
      "answer: [85, 272, 66, 73, 35] product: 3898725600\n"
     ]
    }
   ],
   "source": [
    "directions = [[1, 1], [3, 1], [5, 1], [7, 1], [1, 2]]\n",
    "n_trees = []\n",
    "ans = 1\n",
    "for d in directions:\n",
    "    # pos as x, y\n",
    "    pos = [0, 0]\n",
    "    trees = 0\n",
    "    while pos[1] < height - 1:\n",
    "        pos[0] += d[0]\n",
    "        pos[1] += d[1]\n",
    "        # if you go beyond the width, loop round ie 31 -> 0, 32 -> 1 etc.\n",
    "        if pos[0] > width - 1:\n",
    "            pos[0] -= (width)\n",
    "        spot = mountain[pos[1]][pos[0]]\n",
    "        if spot == '#':\n",
    "            trees += 1\n",
    "    n_trees.append(trees)\n",
    "    ans *= trees\n",
    "print('answer:', n_trees, 'product:', ans)"
   ]
  }
 ]
}