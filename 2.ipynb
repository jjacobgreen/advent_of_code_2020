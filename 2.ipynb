{
 "metadata": {
  "language_info": {
   "codemirror_mode": {
    "name": "ipython",
    "version": 3
   },
   "file_extension": ".py",
   "mimetype": "text/x-python",
   "name": "python",
   "nbconvert_exporter": "python",
   "pygments_lexer": "ipython3",
   "version": "3.8.5-final"
  },
  "orig_nbformat": 2,
  "kernelspec": {
   "name": "python3",
   "display_name": "Python 3"
  }
 },
 "nbformat": 4,
 "nbformat_minor": 2,
 "cells": [
  {
   "source": [
    "Day 2, problem 1"
   ],
   "cell_type": "markdown",
   "metadata": {}
  },
  {
   "cell_type": "code",
   "execution_count": 2,
   "metadata": {},
   "outputs": [],
   "source": [
    "# populate data as array of inputs, each entry consisting of a dict with keys {min, max, letter, pw}\n",
    "data = []\n",
    "with open('inputs/2_1.txt', 'r') as file:\n",
    "    for line in file:\n",
    "        case = line.split()\n",
    "        freq = case[0].split('-')\n",
    "        letter = case[1].split(':')[0]\n",
    "        pw = case[2]\n",
    "        data.append({'min': int(freq[0]), 'max': int(freq[1]), 'letter': letter, 'pw': pw})"
   ]
  },
  {
   "cell_type": "code",
   "execution_count": 3,
   "metadata": {},
   "outputs": [
    {
     "output_type": "stream",
     "name": "stdout",
     "text": [
      "1000\n"
     ]
    }
   ],
   "source": [
    "# number of inputs\n",
    "print(len(data))"
   ]
  },
  {
   "cell_type": "code",
   "execution_count": 4,
   "metadata": {},
   "outputs": [
    {
     "output_type": "stream",
     "name": "stdout",
     "text": [
      "answer: 493\n"
     ]
    }
   ],
   "source": [
    "count = 0\n",
    "for entry in data:\n",
    "    if entry['letter'] in entry['pw']:\n",
    "        occurrences = entry['pw'].count(entry['letter'])\n",
    "    else:\n",
    "        occurrences = 0\n",
    "    if occurrences >= entry['min'] and occurrences <= entry['max']:\n",
    "        count += 1\n",
    "print('answer:', count)"
   ]
  },
  {
   "source": [
    "Day 2, problem 2"
   ],
   "cell_type": "markdown",
   "metadata": {}
  },
  {
   "cell_type": "code",
   "execution_count": 13,
   "metadata": {},
   "outputs": [
    {
     "output_type": "stream",
     "name": "stdout",
     "text": [
      "answer: 593\n"
     ]
    }
   ],
   "source": [
    "count = 0\n",
    "for entry in data:\n",
    "    pos_1 = entry['letter'] == entry['pw'][entry['min'] - 1]\n",
    "    pos_2 = entry['letter'] == entry['pw'][entry['max'] - 1]\n",
    "    if (pos_1 or pos_2) and not (pos_1 and pos_2) :\n",
    "        count += 1\n",
    "print('answer:', count)"
   ]
  }
 ]
}